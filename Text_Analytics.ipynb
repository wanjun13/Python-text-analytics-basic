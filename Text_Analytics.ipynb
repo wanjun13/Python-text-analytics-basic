{
 "cells": [
  {
   "cell_type": "markdown",
   "metadata": {},
   "source": [
    "## Import the relevant packages"
   ]
  },
  {
   "cell_type": "code",
   "execution_count": null,
   "metadata": {},
   "outputs": [],
   "source": [
    "import pandas as pd\n",
    "import PyPDF2\n",
    "import collections, re\n",
    "from textblob import TextBlob\n",
    "from nltk.corpus import stopwords"
   ]
  },
  {
   "cell_type": "markdown",
   "metadata": {},
   "source": [
    "### Fuction that reads text from the PDF file"
   ]
  },
  {
   "cell_type": "code",
   "execution_count": null,
   "metadata": {},
   "outputs": [],
   "source": [
    "def readThroughPDF(fileName):\n",
    "    pdfFileObj = open(fileName, 'rb')\n",
    "    pdfReader = PyPDF2.PdfFileReader(pdfFileObj)\n",
    "    pdflen = pdfReader.numPages\n",
    "    #extract and combine each page's text\n",
    "    pdftext = dict()\n",
    "    for i in range(pdflen):\n",
    "        pageObj = pdfReader.getPage(i)\n",
    "        pdftext[i] = pageObj.extractText()\n",
    "    fulltext = ''.join([j for j in pdftext.values()])\n",
    "    #fulltext = fulltext.encode('utf-8')\n",
    "    #fulltext = fulltext.decode('utf-8').replace('\\n',' ')\n",
    "    return fulltext"
   ]
  },
  {
   "cell_type": "markdown",
   "metadata": {},
   "source": [
    "### Fuction that fixes words that may be broken during reading PDF step"
   ]
  },
  {
   "cell_type": "code",
   "execution_count": null,
   "metadata": {},
   "outputs": [],
   "source": [
    "def fixBrokenWordsInSentence(fulltext):\n",
    "    s = str(fulltext)\n",
    "    s2 = s.split('    ')\n",
    "    si = []\n",
    "    for i in s2:\n",
    "        #merge every second element\n",
    "        j = iter(i.splitlines())\n",
    "        sii = [c + next(j, \"\") for c in j]\n",
    "        si.append(sii)\n",
    "        #join many list\n",
    "        sis = [x for xs in si for x in xs]\n",
    "        sis = ' '.join(sis)\n",
    "    return sis"
   ]
  },
  {
   "cell_type": "markdown",
   "metadata": {},
   "source": [
    "### Function that format the text and exclude stopwords"
   ]
  },
  {
   "cell_type": "code",
   "execution_count": null,
   "metadata": {},
   "outputs": [],
   "source": [
    "def formatText(fulltext):    \n",
    "    fulltext = fulltext.lower()\n",
    "    s = set(stopwords.words('english'))\n",
    "    cleanText = list(filter(lambda w: not w in s, fulltext.split()))\n",
    "    return cleanText"
   ]
  },
  {
   "cell_type": "markdown",
   "metadata": {},
   "source": [
    "### Function that makes the text into a frame"
   ]
  },
  {
   "cell_type": "code",
   "execution_count": null,
   "metadata": {},
   "outputs": [],
   "source": [
    "def textFrame(text):\n",
    "    bagsofwords = [collections.Counter(re.findall(r'\\w+', txt)) for txt in text]\n",
    "    sumbags = dict(sum(bagsofwords, collections.Counter()))\n",
    "    remove = []\n",
    "    for i in sumbags.keys():\n",
    "        if len(i) <= 2:\n",
    "            remove.append(i)\n",
    "    for j in range(len(remove)):\n",
    "        del sumbags[remove[j]]\n",
    "    frame = pd.DataFrame(list(sumbags.items()), columns = ['Word','Count'])\n",
    "    frameNoNum = frame[frame['Word'].str.isalpha()]\n",
    "    return frameNoNum.sort_values(by = ['Count'],ascending = False)\n",
    "\n",
    "fileName = 'Argus Research Corporation-Argus Analyst Report, TXN 2016.pdf'\n",
    "#fileName = eval(input('Please enter the full file name with .pdf :'))"
   ]
  },
  {
   "cell_type": "code",
   "execution_count": null,
   "metadata": {},
   "outputs": [],
   "source": [
    "textMined = textFrame(formatText(fixBrokenWordsInSentence(readThroughPDF(fileName))))\n",
    "print(fixBrokenWordsInSentence(readThroughPDF(fileName)))\n",
    "print(textMined)\n",
    "#export_csv1 = textMined2.to_csv(r'/Users/wenwanchun/eclipse-workspace/t3/TI report 2018 1025.csv',index = None, header = True)"
   ]
  },
  {
   "cell_type": "code",
   "execution_count": null,
   "metadata": {},
   "outputs": [],
   "source": [
    "def sentiment(text):\n",
    "    obj = TextBlob(text)\n",
    "    sentiment = obj.sentiment.polarity\n",
    "    return sentiment\n",
    "\n",
    "\n",
    "my_text = fixBrokenWordsInSentence(readThroughPDF(fileName))\n",
    "sentiment = sentiment(my_text)\n",
    "print('Sentiment is ',sentiment)"
   ]
  },
  {
   "cell_type": "code",
   "execution_count": null,
   "metadata": {},
   "outputs": [],
   "source": []
  }
 ],
 "metadata": {
  "kernelspec": {
   "display_name": "Python 3",
   "language": "python",
   "name": "python3"
  },
  "language_info": {
   "codemirror_mode": {
    "name": "ipython",
    "version": 3
   },
   "file_extension": ".py",
   "mimetype": "text/x-python",
   "name": "python",
   "nbconvert_exporter": "python",
   "pygments_lexer": "ipython3",
   "version": "3.7.4"
  }
 },
 "nbformat": 4,
 "nbformat_minor": 4
}
